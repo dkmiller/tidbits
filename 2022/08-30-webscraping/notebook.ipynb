{
 "cells": [
  {
   "cell_type": "code",
   "execution_count": null,
   "metadata": {},
   "outputs": [],
   "source": [
    "import sys\n",
    "\n",
    "print(sys.executable)"
   ]
  },
  {
   "cell_type": "code",
   "execution_count": null,
   "metadata": {},
   "outputs": [],
   "source": [
    "base = input(\"URL: \")\n",
    "regex = input(\"regex: \")"
   ]
  },
  {
   "cell_type": "code",
   "execution_count": null,
   "metadata": {},
   "outputs": [],
   "source": [
    "import aiohttp\n",
    "import asyncio\n",
    "import logging\n",
    "from scraper import WebScraper\n",
    "\n",
    "logging.basicConfig(level=\"INFO\")\n",
    "\n",
    "\n",
    "async with aiohttp.ClientSession() as session:\n",
    "    scraper = WebScraper(base, regex, session)\n",
    "    await scraper.scrape()"
   ]
  },
  {
   "cell_type": "code",
   "execution_count": null,
   "metadata": {},
   "outputs": [],
   "source": [
    "from urllib.parse import urlparse\n",
    "import re\n",
    "\n",
    "\n",
    "def get_groups(urls):\n",
    "    parsed = list(map(urlparse, urls))\n",
    "    groups = list(\n",
    "        set(\n",
    "            map(\n",
    "                lambda u: re.sub(r\"\\d+\\.jpg\", \"\", u.path.split(\"/\")[-1]),\n",
    "                parsed_collected,\n",
    "            )\n",
    "        )\n",
    "    )\n",
    "    return groups\n",
    "\n",
    "\n",
    "groups = get_groups(scraper.collected)\n",
    "group = groups[3]\n",
    "urls = [url for url in scraper.collected if group in url]\n",
    "\n",
    "display(urls)"
   ]
  },
  {
   "cell_type": "code",
   "execution_count": null,
   "metadata": {},
   "outputs": [],
   "source": [
    "# https://stackoverflow.com/a/32370538\n",
    "from IPython.display import Image\n",
    "\n",
    "for img in urls[:2]:\n",
    "    # https://stackoverflow.com/q/19471814\n",
    "    display(Image(url=img))"
   ]
  }
 ],
 "metadata": {
  "kernelspec": {
   "display_name": "Python 3.9.6 64-bit",
   "language": "python",
   "name": "python396jvsc74a57bd0aee8b7b246df8f9039afb4144a1f6fd8d2ca17a180786b69acc140d282b71a49"
  },
  "language_info": {
   "codemirror_mode": {
    "name": "ipython",
    "version": 3
   },
   "file_extension": ".py",
   "mimetype": "text/x-python",
   "name": "python",
   "nbconvert_exporter": "python",
   "pygments_lexer": "ipython3",
   "version": "3.9.6"
  },
  "vscode": {
   "interpreter": {
    "hash": "eecab6dfdbffdeaf1bd8df62f6d6f61b864be1e9a701d80cca65274bd4907a36"
   }
  }
 },
 "nbformat": 4,
 "nbformat_minor": 2
}
