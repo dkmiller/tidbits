{
 "cells": [
  {
   "cell_type": "markdown",
   "metadata": {},
   "source": [
    "## Sanity-check your kernel + install dependencies."
   ]
  },
  {
   "cell_type": "code",
   "execution_count": null,
   "metadata": {},
   "outputs": [],
   "source": [
    "import os, sys\n",
    "\n",
    "print(sys.executable)\n",
    "os.environ[\"python_bin\"] = sys.executable"
   ]
  },
  {
   "cell_type": "code",
   "execution_count": null,
   "metadata": {},
   "outputs": [],
   "source": [
    "!$python_bin -m pip install -r requirements.txt"
   ]
  },
  {
   "cell_type": "markdown",
   "metadata": {},
   "source": [
    "## &#x1F449; Imports and configuration &#x1F448;\n",
    "\n",
    "On repeat runs start here."
   ]
  },
  {
   "cell_type": "code",
   "execution_count": null,
   "metadata": {},
   "outputs": [],
   "source": [
    "import aiohttp\n",
    "import asyncio\n",
    "from getpass import getpass\n",
    "from IPython.display import Image\n",
    "import logging\n",
    "import re\n",
    "from urllib.parse import urlparse\n",
    "\n",
    "from scraper import WebScraper"
   ]
  },
  {
   "cell_type": "markdown",
   "metadata": {},
   "source": [
    "For case-insensitive regex:\n",
    "\n",
    "```python\n",
    "r = \"(?i)-foo\"\n",
    "```"
   ]
  },
  {
   "cell_type": "code",
   "execution_count": null,
   "metadata": {},
   "outputs": [],
   "source": [
    "# https://stackoverflow.com/a/24418810\n",
    "base = getpass(prompt=\"URL: \")\n",
    "regex = getpass(prompt=\"regex: \")"
   ]
  },
  {
   "cell_type": "markdown",
   "metadata": {},
   "source": [
    "## (Long) Run the scraper"
   ]
  },
  {
   "cell_type": "code",
   "execution_count": null,
   "metadata": {},
   "outputs": [],
   "source": [
    "logging.basicConfig(level=\"INFO\")\n",
    "\n",
    "async with aiohttp.ClientSession() as session:\n",
    "    scraper = WebScraper(base, regex, session)\n",
    "    await scraper.scrape()"
   ]
  },
  {
   "cell_type": "markdown",
   "metadata": {},
   "source": [
    "## Helper methods + data"
   ]
  },
  {
   "cell_type": "code",
   "execution_count": null,
   "metadata": {},
   "outputs": [],
   "source": [
    "def get_groups(urls) -> dict:\n",
    "    parsed = list(map(urlparse, urls))\n",
    "    groups = map(\n",
    "        lambda u: re.sub(r\"\\d+\\.jpg\", \"\", u.path.split(\"/\")[-1]),\n",
    "        parsed,\n",
    "    )\n",
    "    groups = list(set(groups))\n",
    "    rv = {}\n",
    "    for group in groups:\n",
    "        group_urls = [url for url in scraper.collected if group in url]\n",
    "        rv[group] = group_urls\n",
    "\n",
    "    # https://stackoverflow.com/a/613218\n",
    "    rv = dict(sorted(rv.items(), key=lambda item: len(item[1])))\n",
    "    return rv\n",
    "\n",
    "\n",
    "groups = get_groups(scraper.collected)\n",
    "\n",
    "for index, (group, urls) in enumerate(groups.items()):\n",
    "    n_urls = len(urls)\n",
    "    print(f\"{index:2} --> {n_urls:2} : {group}\")\n",
    "\n",
    "groups_list = list(groups.values())"
   ]
  },
  {
   "cell_type": "markdown",
   "metadata": {},
   "source": [
    "## What have we got?"
   ]
  },
  {
   "cell_type": "code",
   "execution_count": null,
   "metadata": {},
   "outputs": [],
   "source": [
    "group_index = 2\n",
    "\n",
    "for url in groups_list[group_index]:\n",
    "    # https://stackoverflow.com/a/32370538\n",
    "    # https://stackoverflow.com/q/19471814\n",
    "    display(Image(url=url))"
   ]
  }
 ],
 "metadata": {
  "kernelspec": {
   "display_name": "Python 3 (ipykernel)",
   "language": "python",
   "name": "python3"
  },
  "language_info": {
   "codemirror_mode": {
    "name": "ipython",
    "version": 3
   },
   "file_extension": ".py",
   "mimetype": "text/x-python",
   "name": "python",
   "nbconvert_exporter": "python",
   "pygments_lexer": "ipython3",
   "version": "3.9.6"
  },
  "vscode": {
   "interpreter": {
    "hash": "eecab6dfdbffdeaf1bd8df62f6d6f61b864be1e9a701d80cca65274bd4907a36"
   }
  }
 },
 "nbformat": 4,
 "nbformat_minor": 2
}
