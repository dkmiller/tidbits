{
 "cells": [
  {
   "cell_type": "code",
   "execution_count": null,
   "metadata": {},
   "outputs": [],
   "source": [
    "from bs4 import BeautifulSoup\n",
    "from IPython.display import Image\n",
    "from IPython.core.display import HTML\n",
    "import requests\n",
    "import re\n",
    "from urllib.parse import urlparse\n",
    "from threading import Lock"
   ]
  },
  {
   "cell_type": "code",
   "execution_count": null,
   "metadata": {},
   "outputs": [],
   "source": [
    "url = input(\"URL: \")\n",
    "regex = input(\"Regex: \")"
   ]
  },
  {
   "cell_type": "code",
   "execution_count": null,
   "metadata": {},
   "outputs": [],
   "source": [
    "def get_all(base: str, rv=set()):\n",
    "    queue = [base]\n",
    "    while queue:\n",
    "        current = queue.pop()\n",
    "        print(f\"(queue: {len(queue)}) Finding sub-pages of {current}\")\n",
    "        r = requests.get(current)\n",
    "        soup = BeautifulSoup(r.text)\n",
    "        links = [x.get(\"href\") for x in soup.find_all(\"a\")]\n",
    "        print(f\"Found {len(links)} links\")\n",
    "        for link in links:\n",
    "            if link not in rv and base in link:\n",
    "                print(f\"Adding {link} to queue\")\n",
    "                queue.append(link)\n",
    "            rv.add(link)\n",
    "    return rv"
   ]
  },
  {
   "cell_type": "code",
   "execution_count": null,
   "metadata": {},
   "outputs": [],
   "source": [
    "links = get_all(url)"
   ]
  },
  {
   "cell_type": "code",
   "execution_count": null,
   "metadata": {},
   "outputs": [],
   "source": [
    "fixed_links = [re.sub(regex, \"\", l) for l in links if re.search(regex, l)]\n",
    "len(fixed_links)"
   ]
  },
  {
   "cell_type": "code",
   "execution_count": null,
   "metadata": {},
   "outputs": [],
   "source": [
    "# https://stackoverflow.com/a/32370538\n",
    "\n",
    "images = [\"https://picsum.photos/200\", \"https://picsum.photos/200/300\"]\n",
    "images = fixed_links[:10]\n",
    "for img in images:\n",
    "    # https://stackoverflow.com/q/19471814\n",
    "\n",
    "    display(Image(url=img))"
   ]
  },
  {
   "cell_type": "code",
   "execution_count": null,
   "metadata": {},
   "outputs": [],
   "source": [
    "!pip install -r requirements.txt"
   ]
  },
  {
   "cell_type": "code",
   "execution_count": null,
   "metadata": {},
   "outputs": [],
   "source": [
    "import aiohttp\n",
    "import logging\n",
    "from scraper import WebScraper\n",
    "\n",
    "logging.basicConfig(level=\"INFO\")\n",
    "\n",
    "\n",
    "# async with aiohttp.ClientSession() as session:\n",
    "#     scraper = WebScraper(base, session)\n",
    "#     scraper.queue.append(base)\n",
    "#     await scraper.scrape()\n",
    "\n",
    "\n",
    "#     asyncio.run(main())\n"
   ]
  },
  {
   "cell_type": "code",
   "execution_count": null,
   "metadata": {},
   "outputs": [],
   "source": []
  }
 ],
 "metadata": {
  "kernelspec": {
   "display_name": "Python 3.9.6 64-bit",
   "language": "python",
   "name": "python3"
  },
  "language_info": {
   "codemirror_mode": {
    "name": "ipython",
    "version": 3
   },
   "file_extension": ".py",
   "mimetype": "text/x-python",
   "name": "python",
   "nbconvert_exporter": "python",
   "pygments_lexer": "ipython3",
   "version": "3.9.6"
  },
  "orig_nbformat": 4,
  "vscode": {
   "interpreter": {
    "hash": "aee8b7b246df8f9039afb4144a1f6fd8d2ca17a180786b69acc140d282b71a49"
   }
  }
 },
 "nbformat": 4,
 "nbformat_minor": 2
}
